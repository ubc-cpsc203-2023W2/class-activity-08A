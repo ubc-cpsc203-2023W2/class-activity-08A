{
 "cells": [
  {
   "cell_type": "markdown",
   "id": "5f577597-f5b2-475e-8430-8559d7cd02d0",
   "metadata": {},
   "source": [
    "# Motivating Data Structures"
   ]
  },
  {
   "cell_type": "markdown",
   "id": "97581e12-06e1-4fc2-8b3f-f44324d29e6a",
   "metadata": {},
   "source": [
    "## Queues\n",
    "\n",
    "Notes: \n",
    "\n"
   ]
  },
  {
   "cell_type": "markdown",
   "id": "2fd7d7a2",
   "metadata": {},
   "source": []
  }
 ],
 "metadata": {
  "kernelspec": {
   "display_name": "Python 3 (ipykernel)",
   "language": "python",
   "name": "python3"
  },
  "language_info": {
   "codemirror_mode": {
    "name": "ipython",
    "version": 3
   },
   "file_extension": ".py",
   "mimetype": "text/x-python",
   "name": "python",
   "nbconvert_exporter": "python",
   "pygments_lexer": "ipython3",
   "version": "3.12.9"
  }
 },
 "nbformat": 4,
 "nbformat_minor": 5
}
