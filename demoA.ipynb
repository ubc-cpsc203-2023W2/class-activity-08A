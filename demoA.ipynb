{
 "cells": [
  {
   "cell_type": "markdown",
   "id": "5f577597-f5b2-475e-8430-8559d7cd02d0",
   "metadata": {},
   "source": [
    "# Motivating Data Structures"
   ]
  },
  {
   "cell_type": "markdown",
   "id": "97581e12-06e1-4fc2-8b3f-f44324d29e6a",
   "metadata": {},
   "source": [
    "## Creating a list\n",
    "\n",
    "Notes: \n",
    "\n"
   ]
  },
  {
   "cell_type": "code",
   "execution_count": 26,
   "id": "3f7dc57f-2e22-4a59-87d7-b94e872678a6",
   "metadata": {},
   "outputs": [],
   "source": [
    "nums = 50_0000\n",
    "num_list = []"
   ]
  },
  {
   "cell_type": "markdown",
   "id": "b6a9080b-eea1-4439-a836-7ffec4cf6e61",
   "metadata": {},
   "source": [
    "### Option 1: For Loop"
   ]
  },
  {
   "cell_type": "code",
   "execution_count": 91,
   "id": "2a96242d-1889-4b3e-985d-e2bca6adb729",
   "metadata": {},
   "outputs": [
    {
     "name": "stdout",
     "output_type": "stream",
     "text": [
      "20.9 ms ± 183 µs per loop (mean ± std. dev. of 7 runs, 100 loops each)\n"
     ]
    }
   ],
   "source": [
    "%%timeit\n",
    "for i in range(nums):\n",
    "    num_list.append(i)"
   ]
  },
  {
   "cell_type": "markdown",
   "id": "5b8e32bc-1d66-4a51-a0eb-a0cda62b6a9b",
   "metadata": {},
   "source": [
    "### Option 2: List Comprehension"
   ]
  },
  {
   "cell_type": "code",
   "execution_count": 92,
   "id": "c0b39c5a-c0be-42c0-9ff3-fbfae6aa4b61",
   "metadata": {},
   "outputs": [
    {
     "name": "stdout",
     "output_type": "stream",
     "text": [
      "8.36 ms ± 40.1 µs per loop (mean ± std. dev. of 7 runs, 100 loops each)\n"
     ]
    }
   ],
   "source": [
    "%%timeit\n",
    "num_list = [i for i in range(nums)]"
   ]
  },
  {
   "cell_type": "markdown",
   "id": "79e189b7-6937-4016-8084-70f66b8e0a1b",
   "metadata": {},
   "source": [
    "### Option 3: List and generator:"
   ]
  },
  {
   "cell_type": "code",
   "execution_count": 94,
   "id": "70904f7e-9a9b-4f0d-a225-e62e9b9766af",
   "metadata": {},
   "outputs": [
    {
     "name": "stdout",
     "output_type": "stream",
     "text": [
      "5.27 ms ± 28.3 µs per loop (mean ± std. dev. of 7 runs, 100 loops each)\n"
     ]
    }
   ],
   "source": [
    "%%timeit\n",
    "num_list = list(range(nums))"
   ]
  },
  {
   "cell_type": "code",
   "execution_count": 99,
   "id": "ecbac3ee-c291-409c-b8f9-9fbce57ca6c1",
   "metadata": {},
   "outputs": [],
   "source": [
    "num_list = list(range(nums))"
   ]
  },
  {
   "cell_type": "markdown",
   "id": "349b81ee-04ea-4984-ba7f-54fdaea0926b",
   "metadata": {},
   "source": [
    "## Removing (popping) a number from the list one-by-one\n",
    "\n",
    "Notes:"
   ]
  },
  {
   "cell_type": "code",
   "execution_count": null,
   "id": "35749a1b-891f-4981-9015-61553dd4539c",
   "metadata": {},
   "outputs": [
    {
     "name": "stdout",
     "output_type": "stream",
     "text": [
      "19.8 s ± 0 ns per loop (mean ± std. dev. of 1 run, 1 loop each)\n"
     ]
    }
   ],
   "source": [
    "%%timeit -n1 -r1\n",
    "num_list = list(range(nums))\n",
    "while(num_list):\n",
    "    num_list.pop(0)"
   ]
  },
  {
   "cell_type": "markdown",
   "id": "fcbe3b20-fcfb-4200-b498-5901d44274c7",
   "metadata": {},
   "source": [
    "## Removing a specific number"
   ]
  },
  {
   "cell_type": "code",
   "execution_count": 113,
   "id": "48a76598-7422-4b39-8f40-514139bdbbee",
   "metadata": {},
   "outputs": [
    {
     "name": "stdout",
     "output_type": "stream",
     "text": [
      "7.57 ms ± 1.45 ms per loop (mean ± std. dev. of 5 runs, 7 loops each)\n"
     ]
    }
   ],
   "source": [
    "%%timeit -n7 -r5\n",
    "num_list = list(range(nums))\n",
    "\n",
    "num_list.remove(47030)"
   ]
  },
  {
   "cell_type": "code",
   "execution_count": null,
   "id": "30fc78c1-b2e4-482b-a39b-5cbf34b59241",
   "metadata": {},
   "outputs": [],
   "source": []
  }
 ],
 "metadata": {
  "kernelspec": {
   "display_name": "Python 3 (ipykernel)",
   "language": "python",
   "name": "python3"
  },
  "language_info": {
   "codemirror_mode": {
    "name": "ipython",
    "version": 3
   },
   "file_extension": ".py",
   "mimetype": "text/x-python",
   "name": "python",
   "nbconvert_exporter": "python",
   "pygments_lexer": "ipython3",
   "version": "3.12.9"
  }
 },
 "nbformat": 4,
 "nbformat_minor": 5
}
